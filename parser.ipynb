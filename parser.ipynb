{
 "cells": [
  {
   "cell_type": "code",
   "execution_count": 43,
   "metadata": {},
   "outputs": [],
   "source": [
    "import pandas as pd\n",
    "import numpy as np\n",
    "import matplotlib.pyplot as plt\n",
    "import re\n",
    "\n",
    "from sklearn.preprocessing import StandardScaler\n",
    "from sklearn.feature_extraction.text import CountVectorizer\n",
    "from pymystem3 import Mystem\n",
    "import pymorphy2\n",
    "\n",
    "\n",
    "from lxml import etree, html as lhtml\n",
    "\n",
    "from tqdm import tqdm\n",
    "\n",
    "%matplotlib inline"
   ]
  },
  {
   "cell_type": "code",
   "execution_count": null,
   "metadata": {},
   "outputs": [],
   "source": []
  },
  {
   "cell_type": "code",
   "execution_count": 44,
   "metadata": {},
   "outputs": [],
   "source": [
    "m2 = pymorphy2.MorphAnalyzer()\n",
    "\n",
    "\n",
    "def mz(s):\n",
    "    A = list()\n",
    "    words = re.findall(r'\\b([а-яa-zA-ZА-Я][а-яa-zA-ZА-Я][а-яa-zA-ZА-Я][а-яa-zA-ZА-Я]+)\\b', s)\n",
    "    digs = re.findall(r'\\b([0-9.]+)\\b', s)\n",
    "    if len(words):\n",
    "        for i in words:\n",
    "            p = m2.parse(i)[0]\n",
    "            A.append(p.normal_form)\n",
    "    A += digs\n",
    "    return ' '.join(A)\n",
    "\n",
    "\n",
    "def XPATH(tree, st):\n",
    "    t = tree.xpath(st)\n",
    "    if t:\n",
    "        return t\n",
    "    else:\n",
    "        #print('Path not found. Error 404')    \n",
    "        return 404"
   ]
  },
  {
   "cell_type": "code",
   "execution_count": 45,
   "metadata": {},
   "outputs": [
    {
     "data": {
      "text/plain": [
       "array([  1,   2,   3,   4,   5,   6,   7,   8,   9,  10,  11,  12,  13,\n",
       "        14,  15,  16,  17,  18,  19,  20,  21,  22,  23,  24,  25,  26,\n",
       "        27,  28,  29,  30,  31,  32,  33,  34,  35,  36,  37,  38,  39,\n",
       "        40,  41,  42,  43,  44,  45,  46,  47,  48,  49,  50,  51,  52,\n",
       "        53,  54,  55,  56,  57,  58,  59,  60,  61,  62,  63,  64,  65,\n",
       "        66,  67,  68,  69,  70,  71,  72,  73,  74,  75,  76,  77,  78,\n",
       "        79,  80,  81,  82,  83,  84,  85,  86,  87,  88,  89,  90,  91,\n",
       "        92,  93,  94,  95,  96,  97,  98,  99, 100, 101, 102, 103, 104,\n",
       "       105, 106, 107, 108, 109, 110, 111, 112, 113, 114, 115, 116, 117,\n",
       "       118, 119, 120, 121, 122, 123, 124, 125, 126, 127, 128, 129])"
      ]
     },
     "execution_count": 45,
     "metadata": {},
     "output_type": "execute_result"
    }
   ],
   "source": [
    "test_df = pd.read_csv('test_groups.csv')\n",
    "train_df = pd.read_csv('train_groups.csv')\n",
    "train_df.group_id.unique()"
   ]
  },
  {
   "cell_type": "code",
   "execution_count": 47,
   "metadata": {},
   "outputs": [
    {
     "name": "stderr",
     "output_type": "stream",
     "text": [
      "100%|██████████| 10/10 [06:34<00:00, 39.50s/it]\n"
     ]
    }
   ],
   "source": [
    "# group_id = train_df.group_id.unique()\n",
    "group_id = test_df.group_id.unique()[:10]\n",
    "\n",
    "for g_ in tqdm(group_id):\n",
    "    \n",
    "    file_id = test_df.loc[(test_df.group_id == g_)].doc_id.values\n",
    "\n",
    "    with open('data/title_h16_{}.txt'.format(g_), mode='a') as out1,open('data/paragraps_{}.txt'.format(g_), mode='a') as out2:\n",
    "\n",
    "        for d_id in [*map(lambda x: 'content/' + str(x) + '.dat',  file_id )]:\n",
    "            with open(d_id,  'r') as fp:\n",
    "                h = str()\n",
    "\n",
    "                tree = lhtml.fromstring(fp.read())\n",
    "\n",
    "                t_ = XPATH(tree, '//title/text()')\n",
    "                if t_ != 404:\n",
    "                    for i in t_:\n",
    "                        t = mz(i)\n",
    "                        if t != \"\":\n",
    "                            h += t + '\\n'\n",
    "\n",
    "\n",
    "                h1_ = XPATH(tree, '//h2/text()')\n",
    "                h2_ = XPATH(tree, '//h2/text()')\n",
    "                h2_ = XPATH(tree, '//h2/text()')\n",
    "                h3_ = XPATH(tree, '//h3/text()')\n",
    "                h4_ = XPATH(tree, '//h4/text()')\n",
    "                h5_ = XPATH(tree, '//h5/text()')\n",
    "                h6_ = XPATH(tree, '//h6/text()')\n",
    "                h_ = [h1_,h2_,h3_,h4_,h5_,h6_]\n",
    "                h = str()\n",
    "                for i in h_:\n",
    "                    if i != 404:\n",
    "                        for j in i:\n",
    "                            t = mz(j)\n",
    "                            if t != \"\":\n",
    "                                h += t + '\\n'\n",
    "                out1.write(h)\n",
    "                out1.write(';\\n')  \n",
    "\n",
    "                # print(h)\n",
    "\n",
    "                h = str()\n",
    "\n",
    "                p_ = XPATH(tree, '//p/text()')\n",
    "                if p_ != 404:\n",
    "                    for i in p_:\n",
    "                        p__ = i.split('.')\n",
    "                        for j in p__: \n",
    "                            t = mz(j)\n",
    "                            if t != \"\":\n",
    "                                h += t + '\\n'\n",
    "\n",
    "                out2.write(h)\n",
    "                out2.write(';\\n')\n",
    "\n",
    "                #print(h)"
   ]
  },
  {
   "cell_type": "code",
   "execution_count": 48,
   "metadata": {},
   "outputs": [
    {
     "name": "stderr",
     "output_type": "stream",
     "text": [
      "100%|██████████| 10/10 [04:38<00:00, 27.87s/it]\n"
     ]
    }
   ],
   "source": [
    "group_id = train_df.group_id.unique()[:10]\n",
    "\n",
    "for g_ in tqdm(group_id):\n",
    "    \n",
    "    file_id = train_df.loc[(train_df.group_id == g_)].doc_id.values\n",
    "\n",
    "    with open('data/title_h16_{}.txt'.format(g_), mode='a') as out1,open('data/paragraps_{}.txt'.format(g_), mode='a') as out2:\n",
    "\n",
    "        for d_id in [*map(lambda x: 'content/' + str(x) + '.dat',  file_id )]:\n",
    "            with open(d_id,  'r') as fp:\n",
    "                h = str()\n",
    "\n",
    "                tree = lhtml.fromstring(fp.read())\n",
    "\n",
    "                t_ = XPATH(tree, '//title/text()')\n",
    "                if t_ != 404:\n",
    "                    for i in t_:\n",
    "                        t = mz(i)\n",
    "                        if t != \"\":\n",
    "                            h += t + '\\n'\n",
    "\n",
    "\n",
    "                h1_ = XPATH(tree, '//h2/text()')\n",
    "                h2_ = XPATH(tree, '//h2/text()')\n",
    "                h2_ = XPATH(tree, '//h2/text()')\n",
    "                h3_ = XPATH(tree, '//h3/text()')\n",
    "                h4_ = XPATH(tree, '//h4/text()')\n",
    "                h5_ = XPATH(tree, '//h5/text()')\n",
    "                h6_ = XPATH(tree, '//h6/text()')\n",
    "                h_ = [h1_,h2_,h3_,h4_,h5_,h6_]\n",
    "                h = str()\n",
    "                for i in h_:\n",
    "                    if i != 404:\n",
    "                        for j in i:\n",
    "                            t = mz(j)\n",
    "                            if t != \"\":\n",
    "                                h += t + '\\n'\n",
    "                out1.write(h)\n",
    "                out1.write(';\\n')  \n",
    "\n",
    "                # print(h)\n",
    "\n",
    "                h = str()\n",
    "\n",
    "                p_ = XPATH(tree, '//p/text()')\n",
    "                if p_ != 404:\n",
    "                    for i in p_:\n",
    "                        p__ = i.split('.')\n",
    "                        for j in p__: \n",
    "                            t = mz(j)\n",
    "                            if t != \"\":\n",
    "                                h += t + '\\n'\n",
    "\n",
    "                out2.write(h)\n",
    "                out2.write(';\\n')\n",
    "\n",
    "                #print(h)"
   ]
  },
  {
   "cell_type": "code",
   "execution_count": null,
   "metadata": {},
   "outputs": [],
   "source": []
  },
  {
   "cell_type": "code",
   "execution_count": null,
   "metadata": {},
   "outputs": [],
   "source": []
  },
  {
   "cell_type": "code",
   "execution_count": null,
   "metadata": {},
   "outputs": [],
   "source": []
  },
  {
   "cell_type": "code",
   "execution_count": null,
   "metadata": {},
   "outputs": [],
   "source": []
  }
 ],
 "metadata": {
  "kernelspec": {
   "display_name": "Python 3",
   "language": "python",
   "name": "python3"
  },
  "language_info": {
   "codemirror_mode": {
    "name": "ipython",
    "version": 3
   },
   "file_extension": ".py",
   "mimetype": "text/x-python",
   "name": "python",
   "nbconvert_exporter": "python",
   "pygments_lexer": "ipython3",
   "version": "3.8.5"
  }
 },
 "nbformat": 4,
 "nbformat_minor": 4
}
